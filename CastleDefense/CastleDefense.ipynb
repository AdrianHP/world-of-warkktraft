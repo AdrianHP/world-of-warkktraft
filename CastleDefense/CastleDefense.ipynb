{
 "cells": [
  {
   "cell_type": "markdown",
   "source": [
    "# Castle Defense\r\n",
    "\r\n",
    "Estás en un castillo que será asediado por una fuerza que te supera, por suerte tu salvación se encuentra a unos N días de espera. Tu misión es resistir hasta que lleguen los refuerzos. En los almacenes del castillo se tienes unos recursos X los cuales te ayudarán. \r\n",
    "\r\n",
    "Entre tus filas cuentas con una fuerza de A artesanos para confeccionar las armas necesarias y recolectar recursos y G guerreros que puedes asignar a las armas construídas para defenderte. Las armas se pueden demorar varios días en construirse y necesitan ser utilizadas por uno o varios guerreros para que sean efectivas.\r\n",
    "\r\n",
    "El enemigo tardará unos D días en llegar y luego atacará en oleadas cada vez más fuertes, aprovecha el tiempo que tienes para irte preparando para la dura batalla, recolecta recursos, construye armas que puedan contener las arremetidas furiosas de los malvados que quieren tomar las vidas de tus súbditos. En las batallas asígnales estas armas a tus guerreros para que puedan luchar. Si todo sale bien seguro saldrás victorioso.\r\n",
    "\r\n",
    "Suerte, esperemos que no queden solo ruinas para los aliados.\r\n",
    "\r\n",
    "## Definición de variables y constantes\r\n",
    "\r\n",
    "| Nombre | Variable/Constante/Calculable | Descripción |\r\n",
    "| -- | -- | -- |\r\n",
    "| $total\\_artesanos$  | Constante | Cantidad total de artesanos |\r\n",
    "| $total\\_guerreros$  | Constante | Cantidad total de guerreros |\r\n",
    "| $artes\\_necesarios\\_arma_j$ | Constante | Artesanos necesarios para construir el arma j |\r\n",
    "| $costo\\_recurso\\_i\\_arma\\_j_{ij}$ | Constante | Coste del recurso i para construir el arma j |\r\n",
    "| $guer\\_neces\\_usar\\_arma_j$ | Constante| Cantidad de guerreros necesarios para usar el arma j |\r\n",
    "| $ataq\\_enemi_i$ | Constante | Poder del ataque enemigo el día i |\r\n",
    "| $daño\\_arma_j$ | Constante | Daño del arma j |\r\n",
    "| $capacidad\\_recolecc\\_recurso_j$ | Constante | Capacidad que se puede recolectar por un artesano del recurso por turno j |\r\n",
    "| $cost\\_dia\\_i\\_recurso\\_j_{ij}$| Calculable | Coste total en el día i del recurso j |\r\n",
    "| $arts\\_dia\\_i\\_arma\\_j_{ij}$ | Variable | Artesanos asignados el dia i a construir el arma j |\r\n",
    "| $arts\\_dia\\_i\\_recurs\\_j_{ij}$ | Variable | Artesanos asignados el dia i a minar el recurso j |\r\n",
    "| $recurso\\_j\\_dia\\_i_{ij}$ | Variable | Recurso j en el día i |\r\n",
    "| $armas\\_j\\_const\\_dia\\_i_{ij}$ | Variable | Armas construídas el día i de tipo j |\r\n",
    "| $guerr\\_dia\\_i\\_con_arma\\_j_{ij}$ | Variable | Guerreros armados el día i con el arma j |\r\n",
    "| $arma\\_j\\_uso\\_dia\\_i{ij}$ | Variable | Armas j en uso el día i |\r\n",
    "| $arma\\_j\\_uso\\_dia\\_i{ij}$ | Variable | Armas j en uso el día i |\r\n",
    "\r\n",
    "## Restricciones\r\n",
    "\r\n",
    "Para todo día i: \r\n",
    "\r\n",
    "- $\\forall_{i} \\sum_j arts\\_dia\\_i\\_arma\\_j_{ij} + arts\\_dia\\_i\\_recurs\\_j_{ij} \\le total\\_artesanos$ : La asignación de artesanos no puede superar la cantidad de ellos\r\n",
    "- $\\forall_{i,j} arts\\_dia\\_i\\_arma\\_j_{ij} = artes\\_necesarios\\_arma_j armas\\_j\\_const\\_dia\\_i_{(i+1)j}$ : La asiganción de artesanos a construir el arma j tiene que satisfacer la cantidad necesaria para realizar la tarea\r\n",
    "- $\\forall_{i,j} cost\\_dia\\_i\\_recurso\\_j_{ij} = \\sum_z cw_{jz} armas\\_j\\_const\\_dia\\_i_{(i+1)z} \\le r_{ij}$ : Tienen que existir los recursos para construir las armas asociadas al día\r\n",
    "- $\\forall_{i,j} recurso\\_j\\_dia\\_i_{(i+1)j} = recurso\\_j\\_dia\\_i_{ij} - cost\\_dia\\_i\\_recurso\\_j_{ij} + arts\\_dia\\_i\\_recurs\\_j_{ij} * capacidad\\_recolecc\\_recurso_j $ : Actualización de los recursos por día\r\n",
    "- $\\forall_{i} \\sum_j guerr\\_dia\\_i\\_con\\_arma\\_j_{ij} \\le total\\_guerreros$ : Los guerreros asociados a las armas no pueden superar el máximo\r\n",
    "- $\\forall_{i,j} arma\\_j\\_uso\\_dia\\_i_{ij} guer\\_neces\\_usar\\_arma_j = guerr\\_dia\\_i\\_con\\_arma\\_j_{ij} $ : Las armas tienen la cantidad de guerreros suficiente para operar\r\n",
    "- $\\forall_{i} \\sum_j arma\\_j\\_uso\\_dia\\_i_{ij} daño\\_arma_j \\ge ataq\\_enemi_i $ El poder de ataque tiene que ser superior al ataque del enemigo\r\n",
    "- $\\forall_{i,j} arma\\_j\\_uso\\_dia\\_i_{ij} \\le \\sum_k^{i-1} armas\\_j\\_const\\_dia\\_i_{kj}$ : Las armas tienen que existir para poder usarse\r\n",
    "\r\n",
    "### Observaciones\r\n",
    "\r\n",
    "Para modelar los días de espera para el ataque se tiene que los primeros elementos de $ataq\\_enemi_i$ son ceros.\r\n",
    "\r\n",
    "Los recursos iniciales se pueden asignar poniendo restricciones al problema tales como:\r\n",
    "\r\n",
    "- $r_{0j} = r_j^0$\r\n",
    "\r\n",
    "Se pueden asignar una cantidad de armas iniciales, aunque en este caso se deja en cero por defecto:\r\n",
    "\r\n",
    "- $armas\\_j\\_const\\_dia\\_i_{0,j} = armas\\_j\\_const\\_dia_{ij}^0$\r\n",
    "\r\n",
    "Falta modelar la cantidad de días necesarios para construir un arma, esto se puede modelar haciendo un arma fantasma y poniendo una restricción al problema que asegure la existencia de las armas fantasmas necesarias para crear el arma final. Estas armas fantasmas se modelan como armas de daño 0 y dividiendo los recursos necesarios para construirla entre los días disponibles.\r\n",
    "\r\n",
    "La restriccion a agregar por cada arma que tenga dependencia, donde $dep\\_arma_j$ es una constante que indica el arma que depende el arma j:\r\n",
    "\r\n",
    "- $ \\forall_{i,j} \\sum_{k}^{i-1} armas\\_j\\_const\\_dia\\_i_{k(dep\\_arma_j)} \\ge \\sum_{k}^{i} armas\\_j\\_const\\_dia\\_i\\_{kj} $ : La cantidad de armas de las que depende es mayor a la cantidad de las armas que existe.\r\n",
    "\r\n",
    "## Función objetivo\r\n",
    "\r\n",
    "Básicamente cualquier solución factible del problema satisface el objetivo de sobrevivir, aunque se podría buscar las que minimizan o maximizan ciertos criterios para cumplir ciertos logros. Por ejemplo:\r\n",
    "\r\n",
    "- $\\max \\sum_i \\sum_j arma\\_j\\_uso\\_dia\\_i_{ij}$ : Maximiza el poder de la defensa del castillo.\r\n",
    "- $\\min \\sum_i \\sum_j armas\\_j\\_const\\_dia\\_i_{ij}$ : Minimiza la cantidad de armas construidas para la defensa\r\n"
   ],
   "metadata": {}
  },
  {
   "cell_type": "markdown",
   "source": [],
   "metadata": {}
  }
 ],
 "metadata": {
  "interpreter": {
   "hash": "31f2aee4e71d21fbe5cf8b01ff0e069b9275f58929596ceb00d14d90e3e16cd6"
  },
  "kernelspec": {
   "display_name": "Python 3.6.9 64-bit",
   "name": "python3"
  },
  "language_info": {
   "name": "python",
   "version": ""
  }
 },
 "nbformat": 4,
 "nbformat_minor": 2
}